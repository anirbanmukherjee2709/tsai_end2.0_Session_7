{
  "nbformat": 4,
  "nbformat_minor": 0,
  "metadata": {
    "colab": {
      "name": "Session 7 Assignment 1",
      "provenance": [],
      "collapsed_sections": []
    },
    "kernelspec": {
      "name": "python3",
      "display_name": "Python 3"
    },
    "language_info": {
      "name": "python"
    },
    "accelerator": "GPU"
  },
  "cells": [
    {
      "cell_type": "code",
      "metadata": {
        "id": "V-WkdBt9v4vx",
        "colab": {
          "base_uri": "https://localhost:8080/"
        },
        "outputId": "8ef54e50-3ecb-4875-ecdf-33ab68020b01"
      },
      "source": [
        "# download the dataset\n",
        "%%shell\n",
        "pip install google-trans-new\n",
        "cd /content\n",
        "path='/content/input'\n",
        "comp='stanfordSentimentTreebank'\n",
        "\n",
        "mkdir -p $path\n",
        "mkdir -p /content/working/\n",
        "\n",
        "wget -c 'http://nlp.stanford.edu/~socherr/'$comp'.zip' -O $comp'.zip'\n",
        "\n",
        "# wget -c 'https://github.com/allenai/spv2/raw/master/model/glove.6B.100d.txt.gz'\n",
        "\n",
        "unzip -q $comp.zip -d $path\n",
        "# gunzip -c 'glove.6B.100d.txt.gz' > '/content/working/glove.6B.100d.txt'\n",
        "rm -rf '/content/input/__MACOSX'"
      ],
      "execution_count": 1,
      "outputs": [
        {
          "output_type": "stream",
          "text": [
            "Collecting google-trans-new\n",
            "  Downloading https://files.pythonhosted.org/packages/f9/7b/9f136106dc5824dc98185c97991d3cd9b53e70a197154dd49f7b899128f6/google_trans_new-1.1.9-py3-none-any.whl\n",
            "Installing collected packages: google-trans-new\n",
            "Successfully installed google-trans-new-1.1.9\n",
            "--2021-06-13 10:18:49--  http://nlp.stanford.edu/~socherr/stanfordSentimentTreebank.zip\n",
            "Resolving nlp.stanford.edu (nlp.stanford.edu)... 171.64.67.140\n",
            "Connecting to nlp.stanford.edu (nlp.stanford.edu)|171.64.67.140|:80... connected.\n",
            "HTTP request sent, awaiting response... 302 Found\n",
            "Location: https://nlp.stanford.edu/~socherr/stanfordSentimentTreebank.zip [following]\n",
            "--2021-06-13 10:18:49--  https://nlp.stanford.edu/~socherr/stanfordSentimentTreebank.zip\n",
            "Connecting to nlp.stanford.edu (nlp.stanford.edu)|171.64.67.140|:443... connected.\n",
            "HTTP request sent, awaiting response... 200 OK\n",
            "Length: 6372817 (6.1M) [application/zip]\n",
            "Saving to: ‘stanfordSentimentTreebank.zip’\n",
            "\n",
            "stanfordSentimentTr 100%[===================>]   6.08M  6.69MB/s    in 0.9s    \n",
            "\n",
            "2021-06-13 10:18:50 (6.69 MB/s) - ‘stanfordSentimentTreebank.zip’ saved [6372817/6372817]\n",
            "\n"
          ],
          "name": "stdout"
        },
        {
          "output_type": "execute_result",
          "data": {
            "text/plain": [
              ""
            ]
          },
          "metadata": {
            "tags": []
          },
          "execution_count": 1
        }
      ]
    },
    {
      "cell_type": "code",
      "metadata": {
        "id": "bwc79oqyv6PG",
        "colab": {
          "base_uri": "https://localhost:8080/"
        },
        "outputId": "7ff1c38d-32c8-45e8-a438-07d98a852bc1"
      },
      "source": [
        "# Import Library\n",
        "import pandas as pd\n",
        "import numpy as np\n",
        "from sklearn.model_selection import train_test_split\n",
        "import matplotlib.pyplot as plt\n",
        "\n",
        "import random\n",
        "import time\n",
        "import os\n",
        "\n",
        "import torch, torchtext\n",
        "from torchtext.legacy import data\n",
        "import torch.nn as nn\n",
        "import torch.nn.functional as F\n",
        "import torch.optim as optim\n",
        "\n",
        "from gensim.parsing.preprocessing import remove_stopwords\n",
        "import nltk\n",
        "nltk.download('wordnet')\n",
        "from nltk.corpus import wordnet\n",
        "\n",
        "import google_trans_new\n",
        "from google_trans_new import google_translator\n",
        "\n",
        "device = torch.device(\"cuda\" if torch.cuda.is_available() else \"cpu\")"
      ],
      "execution_count": 2,
      "outputs": [
        {
          "output_type": "stream",
          "text": [
            "[nltk_data] Downloading package wordnet to /root/nltk_data...\n",
            "[nltk_data]   Unzipping corpora/wordnet.zip.\n"
          ],
          "name": "stdout"
        }
      ]
    },
    {
      "cell_type": "code",
      "metadata": {
        "id": "MJ8tPOgdv8c6"
      },
      "source": [
        "DATA_PATH = '/content/input/stanfordSentimentTreebank'\n",
        "WORK_PATH = '/content/working'\n",
        "\n",
        "DATA_SET = 'datasetSentences.txt'\n",
        "TRAIN_DEV_TEST = 'datasetSplit.txt'\n",
        "PHRASE_DICT = 'dictionary.txt'\n",
        "PHRASE_LABELS = 'sentiment_labels.txt'\n",
        "\n",
        "# Manual Seed\n",
        "def getRandomState():\n",
        "    return np.random.RandomState(RANDOM_SEED)\n",
        "\n",
        "RANDOM_SEED = 43\n",
        "torch.manual_seed(RANDOM_SEED)\n",
        "\n",
        "# Create translator object\n",
        "translator = google_translator()\n",
        "available_langs = list(google_trans_new.LANGUAGES.keys())"
      ],
      "execution_count": 3,
      "outputs": []
    },
    {
      "cell_type": "code",
      "metadata": {
        "id": "blYrVEwvwJ0G"
      },
      "source": [
        "def clean_data(x):\n",
        "    char_dict = {\n",
        "        '-LRB-' : '(',\n",
        "        '-RRB-' : ')',\n",
        "        '\\xa0' : ' ',\n",
        "        '\\xc2' : '',\n",
        "        '\\xc3\\x83\\xc2\\xa0' : 'a',\n",
        "        'à' : 'a',\n",
        "        'Â' : '',\n",
        "        'â' : 'a',\n",
        "        'ã' : 'a',\n",
        "        'Ã¡' : 'a',\n",
        "        'Ã¢' : 'a',\n",
        "        'Ã£' : 'a',\n",
        "        'Ã¦' : 'ae',\n",
        "        'Ã§' : 'c',\n",
        "        'Ã¨' : 'e',\n",
        "        'Ã©' : 'e',\n",
        "        'Ã­' : 'i',\n",
        "        'Ã¯' : 'i',\n",
        "        'Ã±' : 'n',\n",
        "        'Ã³' : 'o',\n",
        "        'Ã´' : 'o',\n",
        "        'Ã¶' : 'o',\n",
        "        'Ã»' : 'u',\n",
        "        'Ã¼' : 'u',\n",
        "        'æ' : 'ae',\n",
        "        'ç' : 'c',\n",
        "        'è' : 'e',\n",
        "        'é' : 'e',\n",
        "        'í' : 'i',\n",
        "        'ï' : 'i',\n",
        "        'ñ' : 'n',\n",
        "        'ó' : 'o',\n",
        "        'ô' : 'o',\n",
        "        'ö' : 'o',\n",
        "        'û' : 'u',\n",
        "        'ü' : 'u'\n",
        "    }\n",
        "    for keys in char_dict.keys():\n",
        "        x = x.replace(keys, char_dict[keys])\n",
        "    return x\n",
        "\n",
        "def sentiment_for_phrases():\n",
        "    # import phrase dictionary\n",
        "    df_dictionary = pd.read_table(\n",
        "        filepath_or_buffer = os.path.join(DATA_PATH, PHRASE_DICT)\n",
        "        , header = None\n",
        "    )\n",
        "    df_dictionary = df_dictionary[0].str.split('|', expand=True)\n",
        "    df_dictionary.columns = ['phrase', 'phrase_ids']\n",
        "\n",
        "    # done to join it with the sentence dataset\n",
        "    df_dictionary['sentence'] = df_dictionary['phrase'].apply(lambda x: clean_data(x))\n",
        "\n",
        "    # import sentiments from \n",
        "    df_sentiment = pd.read_table(\n",
        "        filepath_or_buffer = os.path.join(DATA_PATH, PHRASE_LABELS)\n",
        "        , header = None\n",
        "        , skiprows=1\n",
        "    )\n",
        "    df_sentiment = df_sentiment[0].str.split('|', expand=True)\n",
        "    df_sentiment.columns = ['phrase_ids', 'sentiment_values']\n",
        "    df_sentiment['sentiment_values'] = df_sentiment['sentiment_values'].astype('float32')\n",
        "    df_sentiment['sentiment'] = df_sentiment['sentiment_values'].apply(lambda x: 4 if 0.8 < x <= 1.0 else 3 if 0.6 < x <= 0.8 else 2 if 0.4 < x <= 0.6 else 1 if 0.2 < x <= 0.4 else 0)\n",
        "    \n",
        "    # df_sentiment['sentiment_25'] = df_sentiment['sentiment_values'].apply(lambda x: int(x*24+1))\n",
        "\n",
        "    # merge and returm the sentiment dictionary\n",
        "    return df_dictionary.merge(\n",
        "        df_sentiment\n",
        "        , how='inner'\n",
        "        , on = 'phrase_ids'\n",
        "    )\n",
        "\n",
        "def import_and_create_split_mapping():\n",
        "    # import the sentence dataset\n",
        "    df_data_sentence = pd.read_table(os.path.join(DATA_PATH, DATA_SET))\n",
        "\n",
        "    df_data_sentence['sentence'] = df_data_sentence['sentence'].apply(lambda x: clean_data(x))\n",
        "\n",
        "    return df_data_sentence"
      ],
      "execution_count": 4,
      "outputs": []
    },
    {
      "cell_type": "code",
      "metadata": {
        "id": "bR7FiD_GwNHq"
      },
      "source": [
        "# import sentences from rotten tomatoes\n",
        "df  = import_and_create_split_mapping()\n",
        "\n",
        "# import processed sentiment dictionary\n",
        "df_sentiment_dict = sentiment_for_phrases()\n",
        "\n",
        "df = df.merge(\n",
        "    df_sentiment_dict\n",
        "    , how = 'inner'\n",
        "    , on = 'sentence'\n",
        ")"
      ],
      "execution_count": 5,
      "outputs": []
    },
    {
      "cell_type": "code",
      "metadata": {
        "id": "BwwX7sRbbrFk"
      },
      "source": [
        "(df_train, df_valid) = train_test_split(df, test_size=0.3, random_state=random.seed(RANDOM_SEED))\n",
        "\n",
        "assert len(df_train) + len(df_valid) == len(df)"
      ],
      "execution_count": 6,
      "outputs": []
    },
    {
      "cell_type": "code",
      "metadata": {
        "id": "crin4ZPRwcNv"
      },
      "source": [
        "sentence = data.Field(sequential = True, tokenize = 'spacy', batch_first =True, include_lengths=True)\n",
        "label = data.LabelField(tokenize ='spacy', is_target=True, batch_first =True, sequential =False)\n",
        "# label25 = data.LabelField(tokenize ='spacy', is_target=True, batch_first =True, sequential =False)"
      ],
      "execution_count": 7,
      "outputs": []
    },
    {
      "cell_type": "code",
      "metadata": {
        "id": "A7I9gK_g2RxL"
      },
      "source": [
        "fields = [('sentence', sentence),('sentiment', label)]"
      ],
      "execution_count": 8,
      "outputs": []
    },
    {
      "cell_type": "code",
      "metadata": {
        "id": "6ZWk28oK0Mh1"
      },
      "source": [
        "train = [data.Example.fromlist([df_train.sentence[i], df_train.sentiment[i]], fields) for i in df_train.index]\n",
        "valid = [data.Example.fromlist([df_valid.sentence[i], df_valid.sentiment[i]], fields) for i in df_valid.index]"
      ],
      "execution_count": 9,
      "outputs": []
    },
    {
      "cell_type": "code",
      "metadata": {
        "id": "UvQHPZ6P0W3V"
      },
      "source": [
        "# Creating dataset\n",
        "train = data.Dataset(train, fields)\n",
        "valid = data.Dataset(valid, fields)"
      ],
      "execution_count": 10,
      "outputs": []
    },
    {
      "cell_type": "code",
      "metadata": {
        "id": "Ds68GubG05TS",
        "colab": {
          "base_uri": "https://localhost:8080/"
        },
        "outputId": "e28c9da7-8138-4fa1-f42d-2f1b7ccf1cda"
      },
      "source": [
        "(len(train), len(valid))"
      ],
      "execution_count": 11,
      "outputs": [
        {
          "output_type": "execute_result",
          "data": {
            "text/plain": [
              "(8300, 3558)"
            ]
          },
          "metadata": {
            "tags": []
          },
          "execution_count": 11
        }
      ]
    },
    {
      "cell_type": "code",
      "metadata": {
        "id": "o6cmzfTD08oU",
        "colab": {
          "base_uri": "https://localhost:8080/"
        },
        "outputId": "f26ba86a-7b05-472e-f9f8-a5d149b68ccf"
      },
      "source": [
        "vars(train.examples[10])"
      ],
      "execution_count": 12,
      "outputs": [
        {
          "output_type": "execute_result",
          "data": {
            "text/plain": [
              "{'sentence': ['No',\n",
              "  'amount',\n",
              "  'of',\n",
              "  'nostalgia',\n",
              "  'for',\n",
              "  'Carvey',\n",
              "  \"'s\",\n",
              "  'glory',\n",
              "  'days',\n",
              "  'can',\n",
              "  'disguise',\n",
              "  'the',\n",
              "  'fact',\n",
              "  'that',\n",
              "  'the',\n",
              "  'new',\n",
              "  'film',\n",
              "  'is',\n",
              "  'a',\n",
              "  'lame',\n",
              "  'kiddie',\n",
              "  'flick',\n",
              "  'and',\n",
              "  'that',\n",
              "  'Carvey',\n",
              "  \"'s\",\n",
              "  'considerable',\n",
              "  'talents',\n",
              "  'are',\n",
              "  'wasted',\n",
              "  'in',\n",
              "  'it',\n",
              "  '.'],\n",
              " 'sentiment': 0}"
            ]
          },
          "metadata": {
            "tags": []
          },
          "execution_count": 12
        }
      ]
    },
    {
      "cell_type": "code",
      "metadata": {
        "id": "P3z5Euzt1Tdm"
      },
      "source": [
        "sentence.build_vocab(train)\n",
        "label.build_vocab(train)"
      ],
      "execution_count": 13,
      "outputs": []
    },
    {
      "cell_type": "code",
      "metadata": {
        "id": "5QjrlHKj1YT6",
        "colab": {
          "base_uri": "https://localhost:8080/"
        },
        "outputId": "373f799d-d29c-489f-f2c0-e0750159b3a8"
      },
      "source": [
        "print('Size of input vocab : ', len(sentence.vocab))\n",
        "print('Size of label vocab : ', len(label.vocab))\n",
        "print('Top 10 words appreared repeatedly :', list(sentence.vocab.freqs.most_common(10)))\n",
        "print('Labels : ', label.vocab.stoi)"
      ],
      "execution_count": 14,
      "outputs": [
        {
          "output_type": "stream",
          "text": [
            "Size of input vocab :  16975\n",
            "Size of label vocab :  5\n",
            "Top 10 words appreared repeatedly : [('.', 7829), (',', 6978), ('the', 5905), ('and', 4352), ('of', 4319), ('a', 4245), ('to', 2976), ('-', 2650), (\"'s\", 2477), ('is', 2428)]\n",
            "Labels :  defaultdict(None, {1: 0, 3: 1, 2: 2, 4: 3, 0: 4})\n"
          ],
          "name": "stdout"
        }
      ]
    },
    {
      "cell_type": "code",
      "metadata": {
        "id": "_rj8wZrA5RcQ"
      },
      "source": [
        "train_iterator, valid_iterator = data.BucketIterator.splits((train, valid), batch_size = 32, \n",
        "                                                            sort_key = lambda x: len(x.sentence),\n",
        "                                                            sort_within_batch=True, device = device)"
      ],
      "execution_count": 15,
      "outputs": []
    },
    {
      "cell_type": "code",
      "metadata": {
        "id": "0Fdk67Mt5bo5"
      },
      "source": [
        "import os, pickle\n",
        "with open('tokenizer.pkl', 'wb') as tokens: \n",
        "    pickle.dump(sentence.vocab.stoi, tokens)"
      ],
      "execution_count": 16,
      "outputs": []
    },
    {
      "cell_type": "code",
      "metadata": {
        "id": "zP3ox4VO5ysi"
      },
      "source": [
        "class classifier(nn.Module):\n",
        "    \n",
        "    # Define all the layers used in model\n",
        "    def __init__(self, vocab_size, embedding_dim, hidden_dim, output_dim, n_layers, dropout):\n",
        "        \n",
        "        super().__init__()\n",
        "        \n",
        "        # Embedding layer\n",
        "        self.embedding = nn.Embedding(vocab_size, embedding_dim)\n",
        "        \n",
        "        # LSTM layer\n",
        "        self.encoder = nn.LSTM(embedding_dim, \n",
        "                           hidden_dim, \n",
        "                           num_layers=n_layers, \n",
        "                           dropout=dropout,\n",
        "                        #  bidirectional=True,\n",
        "                           batch_first=True)\n",
        "        # try using nn.GRU or nn.RNN here and compare their performances\n",
        "        # try bidirectional and compare their performances\n",
        "        \n",
        "        # Dense layer\n",
        "        self.fc = nn.Linear(hidden_dim, output_dim)\n",
        "\n",
        "        # self.fc25 = nn.Linear(hidden_dim, output_dim[1])\n",
        "        \n",
        "    def forward(self, text, text_lengths):\n",
        "        \n",
        "        # text = [batch size, sent_length]\n",
        "        embedded = self.embedding(text)\n",
        "        # embedded = [batch size, sent_len, emb dim]\n",
        "\n",
        "        # packed sequence\n",
        "        packed_embedded = nn.utils.rnn.pack_padded_sequence(embedded, text_lengths.cpu(), batch_first=True)\n",
        "        \n",
        "        packed_output, (hidden, cell) = self.encoder(packed_embedded)\n",
        "        #hidden = [batch size, num layers * num directions, hid dim]\n",
        "        #cell = [batch size, num layers * num directions, hid dim]\n",
        "    \n",
        "        # Hidden = [batch size, hid dim * num directions]\n",
        "        dense_outputs = self.fc(hidden)\n",
        "\n",
        "        # dense_outputs25 = self.fc25(hidden)\n",
        "        \n",
        "        # Final activation function softmax\n",
        "        output = F.softmax(dense_outputs[0], dim=1)\n",
        "\n",
        "        # output25 = F.softmax(dense_outputs25[0], dim=1)\n",
        "            \n",
        "        return output"
      ],
      "execution_count": 17,
      "outputs": []
    },
    {
      "cell_type": "code",
      "metadata": {
        "id": "yE6tYino7Y-2"
      },
      "source": [
        "# Define hyperparameters\n",
        "size_of_vocab = len(sentence.vocab)\n",
        "embedding_dim = 300\n",
        "num_hidden_nodes = 100\n",
        "num_output_nodes = 5\n",
        "num_layers = 4\n",
        "dropout = 0.2\n",
        "\n",
        "# Instantiate the model\n",
        "model = classifier(size_of_vocab, embedding_dim, num_hidden_nodes, num_output_nodes, num_layers, dropout = dropout)"
      ],
      "execution_count": 30,
      "outputs": []
    },
    {
      "cell_type": "code",
      "metadata": {
        "colab": {
          "base_uri": "https://localhost:8080/"
        },
        "id": "_Xy7DCgZ7a_X",
        "outputId": "d1c52ade-28bc-4b49-c586-e8592371d49c"
      },
      "source": [
        "print(model)\n",
        "\n",
        "#No. of trianable parameters\n",
        "def count_parameters(model):\n",
        "    return sum(p.numel() for p in model.parameters() if p.requires_grad)\n",
        "    \n",
        "print(f'The model has {count_parameters(model):,} trainable parameters')"
      ],
      "execution_count": 31,
      "outputs": [
        {
          "output_type": "stream",
          "text": [
            "classifier(\n",
            "  (embedding): Embedding(16975, 300)\n",
            "  (encoder): LSTM(300, 100, num_layers=4, batch_first=True, dropout=0.2)\n",
            "  (fc): Linear(in_features=100, out_features=5, bias=True)\n",
            ")\n",
            "The model has 5,496,205 trainable parameters\n"
          ],
          "name": "stdout"
        }
      ]
    },
    {
      "cell_type": "code",
      "metadata": {
        "id": "Y-kovsor7cxs"
      },
      "source": [
        "# define optimizer and loss\n",
        "optimizer = optim.Adam(model.parameters(), lr=1e-4)\n",
        "criterion = nn.CrossEntropyLoss()\n",
        "# criterion25 = nn.CrossEntropyLoss()\n",
        "\n",
        "# define metric\n",
        "def binary_accuracy(preds, y):\n",
        "    #round predictions to the closest integer\n",
        "    _, predictions = torch.max(preds, 1)\n",
        "    \n",
        "    correct = (predictions == y).float() \n",
        "    acc = correct.sum() / len(correct)\n",
        "    return acc\n",
        "    \n",
        "# push to cuda if available\n",
        "model = model.to(device)\n",
        "criterion = criterion.to(device)\n",
        "# criterion25 = criterion25.to(device)"
      ],
      "execution_count": 32,
      "outputs": []
    },
    {
      "cell_type": "code",
      "metadata": {
        "id": "wRLE5YvG7evc"
      },
      "source": [
        "def train(model, iterator, optimizer, criterion):\n",
        "    \n",
        "    # initialize every epoch \n",
        "    epoch_loss = 0\n",
        "    epoch_acc = 0\n",
        "\n",
        "    # epoch_loss25 = 0\n",
        "    # epoch_acc25 = 0\n",
        "    \n",
        "    # set the model in training phase\n",
        "    model.train()  \n",
        "    \n",
        "    for batch in iterator:\n",
        "        \n",
        "        # resets the gradients after every batch\n",
        "        optimizer.zero_grad()   \n",
        "        \n",
        "        # retrieve text and no. of words\n",
        "        sentence, sentence_lengths = batch.sentence   \n",
        "        \n",
        "        # convert to 1D tensor\n",
        "        predictions = model(sentence, sentence_lengths).squeeze()\n",
        "        \n",
        "        # compute the loss\n",
        "        loss = criterion(predictions, batch.sentiment)\n",
        "        \n",
        "        # compute the binary accuracy\n",
        "        acc = binary_accuracy(predictions, batch.sentiment)\n",
        "        \n",
        "        # backpropage the loss and compute the gradients\n",
        "        loss.backward(retain_graph=True)      \n",
        "        \n",
        "        # update the weights\n",
        "        optimizer.step()      \n",
        "        \n",
        "        # loss and accuracy\n",
        "        epoch_loss += loss.item()  \n",
        "        epoch_acc += acc.item() \n",
        "        \n",
        "    return epoch_loss / len(iterator), epoch_acc / len(iterator)"
      ],
      "execution_count": 33,
      "outputs": []
    },
    {
      "cell_type": "code",
      "metadata": {
        "id": "y31XHjte7jMK"
      },
      "source": [
        "def evaluate(model, iterator, criterion):\n",
        "    \n",
        "    # initialize every epoch\n",
        "    epoch_loss = 0\n",
        "    epoch_acc = 0\n",
        "\n",
        "    # deactivating dropout layers\n",
        "    model.eval()\n",
        "    \n",
        "    # deactivates autograd\n",
        "    with torch.no_grad():\n",
        "    \n",
        "        for batch in iterator:\n",
        "        \n",
        "            # retrieve text and no. of words\n",
        "            sentence, sentence_lengths = batch.sentence\n",
        "            \n",
        "            # convert to 1d tensor\n",
        "            predictions = model(sentence, sentence_lengths).squeeze()\n",
        "            \n",
        "            # compute loss and accuracy\n",
        "            loss = criterion(predictions, batch.sentiment)\n",
        "            acc = binary_accuracy(predictions, batch.sentiment)\n",
        "            \n",
        "            # keep track of loss and accuracy\n",
        "            epoch_loss += loss.item()\n",
        "            epoch_acc += acc.item()\n",
        "        \n",
        "    return epoch_loss / len(iterator), epoch_acc / len(iterator)"
      ],
      "execution_count": 34,
      "outputs": []
    },
    {
      "cell_type": "code",
      "metadata": {
        "colab": {
          "base_uri": "https://localhost:8080/"
        },
        "id": "eAa0KN7b7k5Q",
        "outputId": "8190fe1a-5e1a-4151-e3ba-2e31bb833355"
      },
      "source": [
        "N_EPOCHS = 40\n",
        "best_valid_loss = float('inf')\n",
        "val_losses = []\n",
        "train_losses = []\n",
        "\n",
        "val_accuracy = []\n",
        "train_accuracy = []\n",
        "\n",
        "for epoch in range(N_EPOCHS):\n",
        "     \n",
        "    start_time = time.time()\n",
        "    # train the model\n",
        "    train_loss, train_acc = train(model, train_iterator, optimizer, criterion)\n",
        "    train_losses.append(train_loss)\n",
        "    train_accuracy.append(train_acc)\n",
        "\n",
        "    # evaluate the model\n",
        "    valid_loss, valid_acc = evaluate(model, valid_iterator, criterion)\n",
        "    val_losses.append(valid_loss)\n",
        "    val_accuracy.append(valid_acc)\n",
        "\n",
        "\n",
        "    # save the best model\n",
        "    if valid_loss < best_valid_loss:\n",
        "        best_valid_loss = valid_loss\n",
        "        torch.save(model.state_dict(), 'saved_weights.pt')\n",
        "    \n",
        "    print(f'Epoch {epoch+1} | Time Taken: {(time.time() - start_time):.2f}s')\n",
        "    print(f'\\tTrain Loss  5 labels: {train_loss:.3f} | Train Acc  5 labels: {train_acc*100:.2f}%')\n",
        "    print(f'\\t Val. Loss  5 labels: {valid_loss:.3f} |  Val. Acc  5 labels: {valid_acc*100:.2f}% \\n')"
      ],
      "execution_count": 35,
      "outputs": [
        {
          "output_type": "stream",
          "text": [
            "Epoch 1 | Time Taken: 2.52s\n",
            "\tTrain Loss  5 labels: 1.591 | Train Acc  5 labels: 24.96%\n",
            "\t Val. Loss  5 labels: 1.574 |  Val. Acc  5 labels: 27.73% \n",
            "\n",
            "Epoch 2 | Time Taken: 2.41s\n",
            "\tTrain Loss  5 labels: 1.577 | Train Acc  5 labels: 28.79%\n",
            "\t Val. Loss  5 labels: 1.571 |  Val. Acc  5 labels: 27.98% \n",
            "\n",
            "Epoch 3 | Time Taken: 2.40s\n",
            "\tTrain Loss  5 labels: 1.572 | Train Acc  5 labels: 30.86%\n",
            "\t Val. Loss  5 labels: 1.565 |  Val. Acc  5 labels: 30.83% \n",
            "\n",
            "Epoch 4 | Time Taken: 2.41s\n",
            "\tTrain Loss  5 labels: 1.559 | Train Acc  5 labels: 33.83%\n",
            "\t Val. Loss  5 labels: 1.557 |  Val. Acc  5 labels: 31.98% \n",
            "\n",
            "Epoch 5 | Time Taken: 2.37s\n",
            "\tTrain Loss  5 labels: 1.533 | Train Acc  5 labels: 37.38%\n",
            "\t Val. Loss  5 labels: 1.547 |  Val. Acc  5 labels: 33.65% \n",
            "\n",
            "Epoch 6 | Time Taken: 2.40s\n",
            "\tTrain Loss  5 labels: 1.500 | Train Acc  5 labels: 40.62%\n",
            "\t Val. Loss  5 labels: 1.541 |  Val. Acc  5 labels: 34.40% \n",
            "\n",
            "Epoch 7 | Time Taken: 2.41s\n",
            "\tTrain Loss  5 labels: 1.473 | Train Acc  5 labels: 42.98%\n",
            "\t Val. Loss  5 labels: 1.535 |  Val. Acc  5 labels: 35.74% \n",
            "\n",
            "Epoch 8 | Time Taken: 2.39s\n",
            "\tTrain Loss  5 labels: 1.447 | Train Acc  5 labels: 45.32%\n",
            "\t Val. Loss  5 labels: 1.532 |  Val. Acc  5 labels: 35.69% \n",
            "\n",
            "Epoch 9 | Time Taken: 2.35s\n",
            "\tTrain Loss  5 labels: 1.423 | Train Acc  5 labels: 48.17%\n",
            "\t Val. Loss  5 labels: 1.533 |  Val. Acc  5 labels: 35.55% \n",
            "\n",
            "Epoch 10 | Time Taken: 2.35s\n",
            "\tTrain Loss  5 labels: 1.397 | Train Acc  5 labels: 52.16%\n",
            "\t Val. Loss  5 labels: 1.535 |  Val. Acc  5 labels: 34.35% \n",
            "\n",
            "Epoch 11 | Time Taken: 2.35s\n",
            "\tTrain Loss  5 labels: 1.371 | Train Acc  5 labels: 55.82%\n",
            "\t Val. Loss  5 labels: 1.534 |  Val. Acc  5 labels: 34.63% \n",
            "\n",
            "Epoch 12 | Time Taken: 2.35s\n",
            "\tTrain Loss  5 labels: 1.345 | Train Acc  5 labels: 58.67%\n",
            "\t Val. Loss  5 labels: 1.536 |  Val. Acc  5 labels: 34.29% \n",
            "\n",
            "Epoch 13 | Time Taken: 2.34s\n",
            "\tTrain Loss  5 labels: 1.319 | Train Acc  5 labels: 61.79%\n",
            "\t Val. Loss  5 labels: 1.539 |  Val. Acc  5 labels: 33.76% \n",
            "\n",
            "Epoch 14 | Time Taken: 2.33s\n",
            "\tTrain Loss  5 labels: 1.296 | Train Acc  5 labels: 64.17%\n",
            "\t Val. Loss  5 labels: 1.540 |  Val. Acc  5 labels: 33.87% \n",
            "\n",
            "Epoch 15 | Time Taken: 2.34s\n",
            "\tTrain Loss  5 labels: 1.273 | Train Acc  5 labels: 66.50%\n",
            "\t Val. Loss  5 labels: 1.542 |  Val. Acc  5 labels: 33.68% \n",
            "\n",
            "Epoch 16 | Time Taken: 2.35s\n",
            "\tTrain Loss  5 labels: 1.255 | Train Acc  5 labels: 68.06%\n",
            "\t Val. Loss  5 labels: 1.544 |  Val. Acc  5 labels: 33.09% \n",
            "\n",
            "Epoch 17 | Time Taken: 2.34s\n",
            "\tTrain Loss  5 labels: 1.236 | Train Acc  5 labels: 69.52%\n",
            "\t Val. Loss  5 labels: 1.545 |  Val. Acc  5 labels: 33.65% \n",
            "\n",
            "Epoch 18 | Time Taken: 2.34s\n",
            "\tTrain Loss  5 labels: 1.222 | Train Acc  5 labels: 70.99%\n",
            "\t Val. Loss  5 labels: 1.552 |  Val. Acc  5 labels: 32.55% \n",
            "\n",
            "Epoch 19 | Time Taken: 2.35s\n",
            "\tTrain Loss  5 labels: 1.209 | Train Acc  5 labels: 72.18%\n",
            "\t Val. Loss  5 labels: 1.554 |  Val. Acc  5 labels: 32.73% \n",
            "\n",
            "Epoch 20 | Time Taken: 2.36s\n",
            "\tTrain Loss  5 labels: 1.196 | Train Acc  5 labels: 73.20%\n",
            "\t Val. Loss  5 labels: 1.556 |  Val. Acc  5 labels: 32.59% \n",
            "\n",
            "Epoch 21 | Time Taken: 2.35s\n",
            "\tTrain Loss  5 labels: 1.186 | Train Acc  5 labels: 73.80%\n",
            "\t Val. Loss  5 labels: 1.556 |  Val. Acc  5 labels: 32.78% \n",
            "\n",
            "Epoch 22 | Time Taken: 2.35s\n",
            "\tTrain Loss  5 labels: 1.178 | Train Acc  5 labels: 74.39%\n",
            "\t Val. Loss  5 labels: 1.557 |  Val. Acc  5 labels: 32.91% \n",
            "\n",
            "Epoch 23 | Time Taken: 2.37s\n",
            "\tTrain Loss  5 labels: 1.170 | Train Acc  5 labels: 75.07%\n",
            "\t Val. Loss  5 labels: 1.561 |  Val. Acc  5 labels: 32.11% \n",
            "\n",
            "Epoch 24 | Time Taken: 2.35s\n",
            "\tTrain Loss  5 labels: 1.161 | Train Acc  5 labels: 75.75%\n",
            "\t Val. Loss  5 labels: 1.562 |  Val. Acc  5 labels: 32.28% \n",
            "\n",
            "Epoch 25 | Time Taken: 2.34s\n",
            "\tTrain Loss  5 labels: 1.154 | Train Acc  5 labels: 76.27%\n",
            "\t Val. Loss  5 labels: 1.561 |  Val. Acc  5 labels: 32.20% \n",
            "\n",
            "Epoch 26 | Time Taken: 2.36s\n",
            "\tTrain Loss  5 labels: 1.148 | Train Acc  5 labels: 76.84%\n",
            "\t Val. Loss  5 labels: 1.568 |  Val. Acc  5 labels: 31.07% \n",
            "\n",
            "Epoch 27 | Time Taken: 2.35s\n",
            "\tTrain Loss  5 labels: 1.142 | Train Acc  5 labels: 77.31%\n",
            "\t Val. Loss  5 labels: 1.564 |  Val. Acc  5 labels: 32.16% \n",
            "\n",
            "Epoch 28 | Time Taken: 2.33s\n",
            "\tTrain Loss  5 labels: 1.136 | Train Acc  5 labels: 77.62%\n",
            "\t Val. Loss  5 labels: 1.569 |  Val. Acc  5 labels: 31.58% \n",
            "\n",
            "Epoch 29 | Time Taken: 2.34s\n",
            "\tTrain Loss  5 labels: 1.132 | Train Acc  5 labels: 77.98%\n",
            "\t Val. Loss  5 labels: 1.573 |  Val. Acc  5 labels: 30.97% \n",
            "\n",
            "Epoch 30 | Time Taken: 2.35s\n",
            "\tTrain Loss  5 labels: 1.128 | Train Acc  5 labels: 78.22%\n",
            "\t Val. Loss  5 labels: 1.570 |  Val. Acc  5 labels: 31.56% \n",
            "\n",
            "Epoch 31 | Time Taken: 2.35s\n",
            "\tTrain Loss  5 labels: 1.123 | Train Acc  5 labels: 78.61%\n",
            "\t Val. Loss  5 labels: 1.574 |  Val. Acc  5 labels: 30.54% \n",
            "\n",
            "Epoch 32 | Time Taken: 2.34s\n",
            "\tTrain Loss  5 labels: 1.115 | Train Acc  5 labels: 79.68%\n",
            "\t Val. Loss  5 labels: 1.570 |  Val. Acc  5 labels: 31.35% \n",
            "\n",
            "Epoch 33 | Time Taken: 2.39s\n",
            "\tTrain Loss  5 labels: 1.109 | Train Acc  5 labels: 80.78%\n",
            "\t Val. Loss  5 labels: 1.571 |  Val. Acc  5 labels: 30.64% \n",
            "\n",
            "Epoch 34 | Time Taken: 2.38s\n",
            "\tTrain Loss  5 labels: 1.103 | Train Acc  5 labels: 81.65%\n",
            "\t Val. Loss  5 labels: 1.574 |  Val. Acc  5 labels: 30.47% \n",
            "\n",
            "Epoch 35 | Time Taken: 2.36s\n",
            "\tTrain Loss  5 labels: 1.093 | Train Acc  5 labels: 82.84%\n",
            "\t Val. Loss  5 labels: 1.566 |  Val. Acc  5 labels: 31.58% \n",
            "\n",
            "Epoch 36 | Time Taken: 2.34s\n",
            "\tTrain Loss  5 labels: 1.083 | Train Acc  5 labels: 83.85%\n",
            "\t Val. Loss  5 labels: 1.574 |  Val. Acc  5 labels: 30.52% \n",
            "\n",
            "Epoch 37 | Time Taken: 2.34s\n",
            "\tTrain Loss  5 labels: 1.073 | Train Acc  5 labels: 84.84%\n",
            "\t Val. Loss  5 labels: 1.568 |  Val. Acc  5 labels: 31.53% \n",
            "\n",
            "Epoch 38 | Time Taken: 2.34s\n",
            "\tTrain Loss  5 labels: 1.066 | Train Acc  5 labels: 85.65%\n",
            "\t Val. Loss  5 labels: 1.574 |  Val. Acc  5 labels: 30.74% \n",
            "\n",
            "Epoch 39 | Time Taken: 2.36s\n",
            "\tTrain Loss  5 labels: 1.061 | Train Acc  5 labels: 86.01%\n",
            "\t Val. Loss  5 labels: 1.572 |  Val. Acc  5 labels: 30.86% \n",
            "\n",
            "Epoch 40 | Time Taken: 2.35s\n",
            "\tTrain Loss  5 labels: 1.054 | Train Acc  5 labels: 86.57%\n",
            "\t Val. Loss  5 labels: 1.574 |  Val. Acc  5 labels: 30.85% \n",
            "\n"
          ],
          "name": "stdout"
        }
      ]
    },
    {
      "cell_type": "code",
      "metadata": {
        "colab": {
          "base_uri": "https://localhost:8080/",
          "height": 350
        },
        "id": "uZVZyJ_h7mf3",
        "outputId": "55aed4c2-ef89-4e71-ad69-55aff1234e0d"
      },
      "source": [
        "# Plotting the train and validation loss\n",
        "plt.figure(figsize=(10, 5))\n",
        "plt.title(\"Training and Validation Loss for label 5\")\n",
        "plt.plot(val_losses, label=\"val\")\n",
        "plt.plot(train_losses, label=\"train\")\n",
        "plt.xlabel(\"iterations\")\n",
        "plt.ylabel(\"Loss\")\n",
        "plt.legend()\n",
        "plt.show()"
      ],
      "execution_count": 36,
      "outputs": [
        {
          "output_type": "display_data",
          "data": {
            "image/png": "[encoded data removed]",
            "text/plain": [
              "<Figure size 720x360 with 1 Axes>"
            ]
          },
          "metadata": {
            "tags": [],
            "needs_background": "light"
          }
        }
      ]
    },
    {
      "cell_type": "code",
      "metadata": {
        "colab": {
          "base_uri": "https://localhost:8080/",
          "height": 350
        },
        "id": "cUAGVSTN7n_r",
        "outputId": "33a9e484-01e8-431e-c128-d214e63c7d27"
      },
      "source": [
        "# Plotting the train and validation Accuracy\n",
        "\n",
        "plt.figure(figsize=(10, 5))\n",
        "plt.title(\"Training and Validation Accuracy for Label 5\")\n",
        "plt.plot(val_accuracy, label=\"val\")\n",
        "plt.plot(train_accuracy, label=\"train\")\n",
        "plt.xlabel(\"iterations\")\n",
        "plt.ylabel(\"Accuracy\")\n",
        "plt.legend()\n",
        "plt.show()"
      ],
      "execution_count": 37,
      "outputs": [
        {
          "output_type": "display_data",
          "data": {
            "image/png": "[encoded data removed]",
            "text/plain": [
              "<Figure size 720x360 with 1 Axes>"
            ]
          },
          "metadata": {
            "tags": [],
            "needs_background": "light"
          }
        }
      ]
    },
    {
      "cell_type": "code",
      "metadata": {
        "id": "RYVYtpOc7qH8"
      },
      "source": [
        "#load weights and tokenizer\n",
        "\n",
        "path='./saved_weights.pt'\n",
        "model.load_state_dict(torch.load(path));\n",
        "model.eval();\n",
        "tokenizer_file = open('./tokenizer.pkl', 'rb')\n",
        "tokenizer = pickle.load(tokenizer_file)\n",
        "\n",
        "#inference \n",
        "\n",
        "import spacy\n",
        "nlp = spacy.load('en')\n",
        "\n",
        "categories = {0: \"very negative\", 1:\"negative\", 2:\"neutral\", 3:'positive', 4:'very positive'}\n",
        "inv_categories = {v: k for k, v in categories.items()}\n",
        "\n",
        "def classify_tweet(sentence):\n",
        "    \n",
        "    # tokenize the tweet \n",
        "    tokenized = [tok.text for tok in nlp.tokenizer(sentence)] \n",
        "    # convert to integer sequence using predefined tokenizer dictionary\n",
        "    indexed = [tokenizer[t] for t in tokenized]        \n",
        "    # compute no. of words        \n",
        "    length = [len(indexed)]\n",
        "    # convert to tensor                                    \n",
        "    tensor = torch.LongTensor(indexed).to(device)   \n",
        "    # reshape in form of batch, no. of words           \n",
        "    tensor = tensor.unsqueeze(1).T  \n",
        "    # convert to tensor                          \n",
        "    length_tensor = torch.LongTensor(length)\n",
        "    # Get the model prediction                  \n",
        "    prediction = model(tensor, length_tensor)\n",
        "\n",
        "    _, pred = torch.max(prediction, 1) \n",
        "    \n",
        "    return categories[pred.item()]"
      ],
      "execution_count": 38,
      "outputs": []
    },
    {
      "cell_type": "code",
      "metadata": {
        "id": "wcscXl-7cOwK"
      },
      "source": [
        "df_eval = pd.DataFrame([(df_valid['sentence'][idx], df_valid['sentiment'][idx], inv_categories[classify_tweet(df_valid['sentence'][idx])]) for idx in df_valid.index], columns=['sentence','sentiment', 'sentiment_pred'])"
      ],
      "execution_count": 39,
      "outputs": []
    },
    {
      "cell_type": "code",
      "metadata": {
        "colab": {
          "base_uri": "https://localhost:8080/",
          "height": 355
        },
        "id": "xyPAEm2icglC",
        "outputId": "00dfb15d-4fd3-4dde-c7be-d22c67222c00"
      },
      "source": [
        "df_eval.head(10)"
      ],
      "execution_count": 40,
      "outputs": [
        {
          "output_type": "execute_result",
          "data": {
            "text/html": [
              "<div>\n",
              "<style scoped>\n",
              "    .dataframe tbody tr th:only-of-type {\n",
              "        vertical-align: middle;\n",
              "    }\n",
              "\n",
              "    .dataframe tbody tr th {\n",
              "        vertical-align: top;\n",
              "    }\n",
              "\n",
              "    .dataframe thead th {\n",
              "        text-align: right;\n",
              "    }\n",
              "</style>\n",
              "<table border=\"1\" class=\"dataframe\">\n",
              "  <thead>\n",
              "    <tr style=\"text-align: right;\">\n",
              "      <th></th>\n",
              "      <th>sentence</th>\n",
              "      <th>sentiment</th>\n",
              "      <th>sentiment_pred</th>\n",
              "    </tr>\n",
              "  </thead>\n",
              "  <tbody>\n",
              "    <tr>\n",
              "      <th>0</th>\n",
              "      <td>Art-house to the core , Read My Lips is a genr...</td>\n",
              "      <td>3</td>\n",
              "      <td>1</td>\n",
              "    </tr>\n",
              "    <tr>\n",
              "      <th>1</th>\n",
              "      <td>The film 's images give a backbone to the comp...</td>\n",
              "      <td>3</td>\n",
              "      <td>1</td>\n",
              "    </tr>\n",
              "    <tr>\n",
              "      <th>2</th>\n",
              "      <td>When you think you 've figured out Bielinsky '...</td>\n",
              "      <td>2</td>\n",
              "      <td>1</td>\n",
              "    </tr>\n",
              "    <tr>\n",
              "      <th>3</th>\n",
              "      <td>The story drifts so inexorably into cliches ab...</td>\n",
              "      <td>1</td>\n",
              "      <td>1</td>\n",
              "    </tr>\n",
              "    <tr>\n",
              "      <th>4</th>\n",
              "      <td>The film takes the materials of human tragedy ...</td>\n",
              "      <td>2</td>\n",
              "      <td>1</td>\n",
              "    </tr>\n",
              "    <tr>\n",
              "      <th>5</th>\n",
              "      <td>The movie , while beautiful , feels labored , ...</td>\n",
              "      <td>2</td>\n",
              "      <td>1</td>\n",
              "    </tr>\n",
              "    <tr>\n",
              "      <th>6</th>\n",
              "      <td>Claude Chabrol 's camera has a way of gently s...</td>\n",
              "      <td>3</td>\n",
              "      <td>1</td>\n",
              "    </tr>\n",
              "    <tr>\n",
              "      <th>7</th>\n",
              "      <td>It 's something of the ultimate Scorsese film ...</td>\n",
              "      <td>4</td>\n",
              "      <td>1</td>\n",
              "    </tr>\n",
              "    <tr>\n",
              "      <th>8</th>\n",
              "      <td>There is n't one moment in the film that surpr...</td>\n",
              "      <td>0</td>\n",
              "      <td>0</td>\n",
              "    </tr>\n",
              "    <tr>\n",
              "      <th>9</th>\n",
              "      <td>Immediately .</td>\n",
              "      <td>2</td>\n",
              "      <td>0</td>\n",
              "    </tr>\n",
              "  </tbody>\n",
              "</table>\n",
              "</div>"
            ],
            "text/plain": [
              "                                            sentence  sentiment  sentiment_pred\n",
              "0  Art-house to the core , Read My Lips is a genr...          3               1\n",
              "1  The film 's images give a backbone to the comp...          3               1\n",
              "2  When you think you 've figured out Bielinsky '...          2               1\n",
              "3  The story drifts so inexorably into cliches ab...          1               1\n",
              "4  The film takes the materials of human tragedy ...          2               1\n",
              "5  The movie , while beautiful , feels labored , ...          2               1\n",
              "6  Claude Chabrol 's camera has a way of gently s...          3               1\n",
              "7  It 's something of the ultimate Scorsese film ...          4               1\n",
              "8  There is n't one moment in the film that surpr...          0               0\n",
              "9                                      Immediately .          2               0"
            ]
          },
          "metadata": {
            "tags": []
          },
          "execution_count": 40
        }
      ]
    },
    {
      "cell_type": "code",
      "metadata": {
        "colab": {
          "base_uri": "https://localhost:8080/"
        },
        "id": "Gz1Y1bHYgSgB",
        "outputId": "eb4c9856-54f1-47f5-f8b8-bf9180aecd8c"
      },
      "source": [
        "num_correct, num_incorrect = len(df_eval[df_eval['sentiment'] == df_eval['sentiment_pred']]), len(df_eval[df_eval['sentiment'] != df_eval['sentiment_pred']])\n",
        "\n",
        "print(f'correct count: {num_correct}\\nincorrect count: {num_incorrect}')\n",
        "print(f'correct count: {num_correct/len(df_eval)*100:.2f}%\\nincorrect count: {num_incorrect/len(df_eval)*100:.2f}%')"
      ],
      "execution_count": 41,
      "outputs": [
        {
          "output_type": "stream",
          "text": [
            "correct count: 642\n",
            "incorrect count: 2916\n",
            "correct count: 18.04%\n",
            "incorrect count: 81.96%\n"
          ],
          "name": "stdout"
        }
      ]
    },
    {
      "cell_type": "code",
      "metadata": {
        "colab": {
          "base_uri": "https://localhost:8080/",
          "height": 634
        },
        "id": "hAwzRvQ675Ys",
        "outputId": "c5a650d7-2ce5-4b03-b473-d9d260d3ed2b"
      },
      "source": [
        "from sklearn.metrics import confusion_matrix\n",
        "cm = confusion_matrix(df_eval['sentiment'].values, df_eval['sentiment_pred'].values)\n",
        "\n",
        "import seaborn as sns\n",
        "import matplotlib.pyplot as plt     \n",
        "\n",
        "\n",
        "font = {'font.size': 14}\n",
        "plt.rcParams.update(font)\n",
        "plt.figure(figsize=(10, 10))\n",
        "ax= plt.subplot()\n",
        "sns.heatmap(cm, annot=True, fmt='g', ax=ax);  #annot=True to annotate cells, ftm='g' to disable scientific notation\n",
        "\n",
        "# labels, title and ticks\n",
        "ax.set_xlabel('Predicted labels');ax.set_ylabel('True labels'); \n",
        "ax.set_title('Confusion Matrix'); \n",
        "ax.xaxis.set_ticklabels(list(categories.values())); ax.yaxis.set_ticklabels(list(categories.values())[::-1]);"
      ],
      "execution_count": 44,
      "outputs": [
        {
          "output_type": "display_data",
          "data": {
            "image/png": "[encoded data removed]",
            "text/plain": [
              "<Figure size 720x720 with 2 Axes>"
            ]
          },
          "metadata": {
            "tags": [],
            "needs_background": "light"
          }
        }
      ]
    },
    {
      "cell_type": "code",
      "metadata": {
        "id": "nruOnmoz986i"
      },
      "source": [
        ""
      ],
      "execution_count": null,
      "outputs": []
    }
  ]
}